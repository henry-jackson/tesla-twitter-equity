{
 "cells": [
  {
   "cell_type": "code",
   "execution_count": 1,
   "metadata": {},
   "outputs": [],
   "source": [
    "import sqlite3\n",
    "import pandas as pd\n",
    "import json\n",
    "import matplotlib.pyplot as plt\n",
    "from IPython.display import Markdown, display\n",
    "import calendar\n",
    "\n",
    "\n",
    "# Allow Markdown characters in the print statement\n",
    "# this can make the output more print ready\n",
    "def printmd(string):\n",
    "    display(Markdown(string))"
   ]
  },
  {
   "cell_type": "code",
   "execution_count": 2,
   "metadata": {},
   "outputs": [],
   "source": [
    "# conn = sqlite3.connect(\"twitterTesla.db\")\n",
    "# c = conn.cursor()\n",
    "\n",
    "# # Create the Tweets Table\n",
    "# # quoted_status and reweeted_status are bool\n",
    "# # but sqlite doesn't have bool actual data types so I am using 0 for false and 1 for true\n",
    "# sql_create = \"\"\"\n",
    "# CREATE TABLE IF NOT EXISTS tweets ( \n",
    "#     tweet_id INTEGER PRIMARY KEY,\n",
    "#     tweet TEXT,\n",
    "#     created_at INTEGER,\n",
    "#     retweet_count INTEGER,\n",
    "#     favorite_count INTEGER,\n",
    "#     quoted_status INTEGER,\n",
    "#     retweeted_status INTEGER,\n",
    "#     source TEXT\n",
    "# );\n",
    "# \"\"\"\n",
    "\n",
    "# # remove any data from a previous run\n",
    "# sql_delete = \"DELETE FROM tweets\"\n",
    "\n",
    "# try:\n",
    "#     c.execute(sql_create)\n",
    "#     c.execute(sql_delete)\n",
    "#     conn.commit()\n",
    "# finally:\n",
    "#     conn.rollback()\n",
    "#     c.close()\n",
    "#     conn.close()"
   ]
  },
  {
   "cell_type": "code",
   "execution_count": 3,
   "metadata": {},
   "outputs": [],
   "source": [
    "conn = sqlite3.connect(\"twitterTesla.db\")\n",
    "c = conn.cursor()\n",
    "\n",
    "# Create tesla table to hold Elon Musk's tweets\n",
    "\n",
    "sql_create = \"\"\"\n",
    "CREATE TABLE IF NOT EXISTS tweets (\n",
    "    id INTEGER PRIMARY KEY,\n",
    "    data json\n",
    ");\n",
    "\"\"\"\n",
    "\n",
    "# remove any data from a previous run\n",
    "sql_delete = \"DELETE FROM tweets\"\n",
    "\n",
    "try:\n",
    "    c.execute(sql_create)\n",
    "    c.execute(sql_delete)\n",
    "    conn.commit()\n",
    "finally:\n",
    "    conn.rollback()\n",
    "    c.close()\n",
    "    conn.close()"
   ]
  },
  {
   "cell_type": "code",
   "execution_count": 4,
   "metadata": {},
   "outputs": [],
   "source": [
    "conn = sqlite3.connect(\"twitterTesla.db\")\n",
    "c = conn.cursor()\n",
    "\n",
    "# Create tesla table to hold stock prices\n",
    "\n",
    "sql_create = \"\"\"\n",
    "CREATE TABLE IF NOT EXISTS tesla (\n",
    "    id INTEGER PRIMARY KEY,\n",
    "    date INTEGER,\n",
    "    open DECIMAL(6,2),\n",
    "    close DECIMAL(6,2),\n",
    "    high DECIMAL(6,2),\n",
    "    low DECIMAL(6,2)\n",
    ");\n",
    "\"\"\"\n",
    "\n",
    "# remove any data from a previous run\n",
    "sql_delete = \"DELETE FROM tesla\"\n",
    "\n",
    "try:\n",
    "    c.execute(sql_create)\n",
    "    c.execute(sql_delete)\n",
    "    conn.commit()\n",
    "finally:\n",
    "    conn.rollback()\n",
    "    c.close()\n",
    "    conn.close()"
   ]
  },
  {
   "cell_type": "code",
   "execution_count": 5,
   "metadata": {},
   "outputs": [
    {
     "data": {
      "text/plain": [
       "<sqlite3.Cursor at 0x1216d5ea0>"
      ]
     },
     "execution_count": 5,
     "metadata": {},
     "output_type": "execute_result"
    }
   ],
   "source": [
    "# Sqlite db file will continute to grow in size after any deletes or drops\n",
    "# This will optimize the database file and reduce its size\n",
    "# You can also just remove the db file and recreate.\n",
    "# http://www.sqlitetutorial.net/sqlite-vacuum/\n",
    "conn = sqlite3.connect(\"twitterTesla.db\")\n",
    "conn.execute(\"VACUUM\")"
   ]
  },
  {
   "cell_type": "code",
   "execution_count": 8,
   "metadata": {},
   "outputs": [],
   "source": [
    "conn = sqlite3.connect(\"teslaTwitter.db\")\n",
    "c = conn.cursor()\n",
    "\n",
    "# load stock into sqlite table\n",
    "filepath = 'csv/tslaquotes.csv'\n",
    "\n",
    "# read csv file\n",
    "df = pd.read_csv(filepath, parse_dates=['date'], usecols=['date', 'close', 'open', 'high', 'low'])\n",
    "\n",
    "# append the data to the 'tesla' table in the 'teslaTwitter.db'\n",
    "df.to_sql(\"tesla\", conn, if_exists = \"append\", index=False)"
   ]
  },
  {
   "cell_type": "code",
   "execution_count": 9,
   "metadata": {},
   "outputs": [],
   "source": [
    "# conn = sqlite3.connect(\"teslaTwitter.db\")\n",
    "# c = conn.cursor()\n",
    "\n",
    "# # load stock into sqlite table\n",
    "# filepath = 'csv/musktweets.csv'\n",
    "\n",
    "# # read csv file\n",
    "# df = pd.read_csv(filepath, \n",
    "#                  parse_dates=['created_at'], \n",
    "#                  usecols=['created_at', 'full_text', 'quoted_status', \n",
    "#                           'retweeted_status', 'retweet_count', \n",
    "#                           'favorite_count',\n",
    "#                           'retweeted_status_favorite_count']\n",
    "#                 )\n",
    "\n",
    "# # append the data to the 'tesla' table in the 'teslaTwitter.db'\n",
    "# df.to_sql(\"tesla\", conn, if_exists = \"append\", index=False)"
   ]
  },
  {
   "cell_type": "code",
   "execution_count": 30,
   "metadata": {},
   "outputs": [
    {
     "ename": "NameError",
     "evalue": "name 'musktweets' is not defined",
     "output_type": "error",
     "traceback": [
      "\u001b[0;31m---------------------------------------------------------------------------\u001b[0m",
      "\u001b[0;31mNameError\u001b[0m                                 Traceback (most recent call last)",
      "\u001b[0;32m<ipython-input-30-f8258faf29f6>\u001b[0m in \u001b[0;36m<module>\u001b[0;34m()\u001b[0m\n\u001b[0;32m----> 1\u001b[0;31m \u001b[0mtweets\u001b[0m \u001b[0;34m=\u001b[0m \u001b[0mjson\u001b[0m\u001b[0;34m.\u001b[0m\u001b[0mload\u001b[0m\u001b[0;34m(\u001b[0m\u001b[0mjson\u001b[0m\u001b[0;34m/\u001b[0m\u001b[0mmusktweets\u001b[0m\u001b[0;34m.\u001b[0m\u001b[0mjson\u001b[0m\u001b[0;34m)\u001b[0m\u001b[0;34m\u001b[0m\u001b[0m\n\u001b[0m\u001b[1;32m      2\u001b[0m \u001b[0;34m\u001b[0m\u001b[0m\n\u001b[1;32m      3\u001b[0m \u001b[0;31m# https://devopsheaven.com/sqlite/databases/json/python/api/2017/10/11/sqlite-json-data-python.html\u001b[0m\u001b[0;34m\u001b[0m\u001b[0;34m\u001b[0m\u001b[0m\n\u001b[1;32m      4\u001b[0m \u001b[0;34m\u001b[0m\u001b[0m\n\u001b[1;32m      5\u001b[0m \u001b[0mprint\u001b[0m\u001b[0;34m(\u001b[0m\u001b[0mtweets\u001b[0m\u001b[0;34m[\u001b[0m\u001b[0;36m0\u001b[0m\u001b[0;34m]\u001b[0m\u001b[0;34m)\u001b[0m\u001b[0;34m\u001b[0m\u001b[0m\n",
      "\u001b[0;31mNameError\u001b[0m: name 'musktweets' is not defined"
     ]
    }
   ],
   "source": [
    "tweets = json.load(json/musktweets.json)\n",
    "\n",
    "# https://devopsheaven.com/sqlite/databases/json/python/api/2017/10/11/sqlite-json-data-python.html\n",
    "\n",
    "print(tweets[0])"
   ]
  }
 ],
 "metadata": {
  "kernelspec": {
   "display_name": "Python 3",
   "language": "python",
   "name": "python3"
  },
  "language_info": {
   "codemirror_mode": {
    "name": "ipython",
    "version": 3
   },
   "file_extension": ".py",
   "mimetype": "text/x-python",
   "name": "python",
   "nbconvert_exporter": "python",
   "pygments_lexer": "ipython3",
   "version": "3.6.5"
  }
 },
 "nbformat": 4,
 "nbformat_minor": 2
}
