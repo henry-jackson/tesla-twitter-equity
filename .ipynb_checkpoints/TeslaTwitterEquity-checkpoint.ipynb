{
 "cells": [
  {
   "cell_type": "code",
   "execution_count": 1,
   "metadata": {},
   "outputs": [],
   "source": [
    "import sqlite3\n",
    "import pandas as pd\n",
    "import json\n",
    "import os\n",
    "import matplotlib.pyplot as plt\n",
    "from IPython.display import Markdown, display\n",
    "import calendar\n",
    "\n",
    "\n",
    "# Allow Markdown characters in the print statement\n",
    "# this can make the output more print ready\n",
    "def printmd(string):\n",
    "    display(Markdown(string))"
   ]
  },
  {
   "cell_type": "code",
   "execution_count": 2,
   "metadata": {},
   "outputs": [],
   "source": [
    "conn = sqlite3.connect(\"twitterTesla.db\")\n",
    "c = conn.cursor()\n",
    "\n",
    "# Create tesla table to hold Elon Musk's tweets\n",
    "\n",
    "sql_create = \"\"\"\n",
    "CREATE TABLE IF NOT EXISTS tweets (\n",
    "    id_str TEXT PRIMARY KEY,\n",
    "    created_at INTEGER,\n",
    "    full_text TEXT\n",
    ");\n",
    "\"\"\"\n",
    "\n",
    "# remove any data from a previous run\n",
    "sql_delete = \"DELETE FROM tweets\"\n",
    "\n",
    "try:\n",
    "    c.execute(sql_create)\n",
    "    c.execute(sql_delete)\n",
    "    conn.commit()\n",
    "finally:\n",
    "    conn.rollback()\n",
    "    c.close()\n",
    "    conn.close()"
   ]
  },
  {
   "cell_type": "code",
   "execution_count": 3,
   "metadata": {},
   "outputs": [],
   "source": [
    "conn = sqlite3.connect(\"twitterTesla.db\")\n",
    "c = conn.cursor()\n",
    "\n",
    "# Create tesla table to hold stock prices\n",
    "\n",
    "sql_create = \"\"\"\n",
    "CREATE TABLE IF NOT EXISTS tesla (\n",
    "    id INTEGER PRIMARY KEY,\n",
    "    date TEXT,\n",
    "    open DECIMAL(6,2),\n",
    "    close DECIMAL(6,2),\n",
    "    high DECIMAL(6,2),\n",
    "    low DECIMAL(6,2)\n",
    ");\n",
    "\"\"\"\n",
    "\n",
    "# remove any data from a previous run\n",
    "sql_delete = \"DELETE FROM tesla\"\n",
    "\n",
    "try:\n",
    "    c.execute(sql_create)\n",
    "    c.execute(sql_delete)\n",
    "    conn.commit()\n",
    "finally:\n",
    "    conn.rollback()\n",
    "    c.close()\n",
    "    conn.close()"
   ]
  },
  {
   "cell_type": "code",
   "execution_count": 4,
   "metadata": {},
   "outputs": [
    {
     "data": {
      "text/plain": [
       "<sqlite3.Cursor at 0x112fed500>"
      ]
     },
     "execution_count": 4,
     "metadata": {},
     "output_type": "execute_result"
    }
   ],
   "source": [
    "# Sqlite db file will continute to grow in size after any deletes or drops\n",
    "# This will optimize the database file and reduce its size\n",
    "# You can also just remove the db file and recreate.\n",
    "# http://www.sqlitetutorial.net/sqlite-vacuum/\n",
    "conn = sqlite3.connect(\"twitterTesla.db\")\n",
    "conn.execute(\"VACUUM\")"
   ]
  },
  {
   "cell_type": "code",
   "execution_count": 5,
   "metadata": {},
   "outputs": [],
   "source": [
    "conn = sqlite3.connect(\"twitterTesla.db\")\n",
    "\n",
    "# load stock into sqlite table\n",
    "filepath = 'csv/tslaquotes.csv'\n",
    "\n",
    "# read csv file\n",
    "stock_df = pd.read_csv(filepath, parse_dates=['date'], usecols=['date', 'close', 'open', 'high', 'low'])\n",
    "\n",
    "# drop any time values\n",
    "stock_df['date'] = stock_df['date'].dt.date\n",
    "\n",
    "# append the data to the 'tesla' table in the 'teslaTwitter.db'\n",
    "stock_df.to_sql(\"tesla\", conn, if_exists = \"append\", index=False)"
   ]
  },
  {
   "cell_type": "code",
   "execution_count": 6,
   "metadata": {},
   "outputs": [],
   "source": [
    "conn = sqlite3.connect(\"twitterTesla.db\")\n",
    "\n",
    "# Pull out all of the json and put it into a tweets array to iterate through and create the data frame with\n",
    "with open(os.path.join('json/', 'musktweets.json')) as json_file:\n",
    "    tweets = []\n",
    "    for line in json_file:\n",
    "        tweets.append(json.loads(line))\n",
    "\n",
    "tweet_df = pd.DataFrame(tweets, columns=['id_str','created_at','full_text'])\n",
    "\n",
    "# Drop time values and change date format of %Y-%m-%d to match stock quotes\n",
    "tweet_df['created_at'] = pd.to_datetime(tweet_df['created_at'], format='%a %b %d %H:%M:%S +0000 %Y', utc=True)\n",
    "tweet_df['created_at'] = pd.DatetimeIndex(tweet_df.created_at).date\n",
    "\n",
    "# append the data to the 'tweets' table in 'teslaTwitter.db'\n",
    "tweet_df.to_sql(\"tweets\", conn, if_exists=\"append\", index=False)"
   ]
  },
  {
   "cell_type": "code",
   "execution_count": 7,
   "metadata": {},
   "outputs": [
    {
     "data": {
      "text/markdown": [
       "### Total Tweets: 3,204"
      ],
      "text/plain": [
       "<IPython.core.display.Markdown object>"
      ]
     },
     "metadata": {},
     "output_type": "display_data"
    },
    {
     "data": {
      "text/markdown": [
       "\n",
       "### Date Span of Tweets\n",
       "- Earliest Tweet: 2016-10-10\n",
       "- Latest Tweet: 2018-09-11\n"
      ],
      "text/plain": [
       "<IPython.core.display.Markdown object>"
      ]
     },
     "metadata": {},
     "output_type": "display_data"
    },
    {
     "data": {
      "text/markdown": [
       "\n",
       "### Date Span of Tesla Quotes\n",
       "- Earliest Quote: 2015-10-22\n",
       "- Latest Quote: 2018-11-08\n"
      ],
      "text/plain": [
       "<IPython.core.display.Markdown object>"
      ]
     },
     "metadata": {},
     "output_type": "display_data"
    },
    {
     "data": {
      "text/markdown": [
       "### Tweets by Month\n",
       "|   Month   |    Year   |  Tweets   |\n",
       "|-----------|-----------|-----------|\n",
       "| 10 | 2016 |62 |\n",
       "| 11 | 2016 |82 |\n",
       "| 12 | 2016 |50 |\n",
       "| 01 | 2017 |107 |\n",
       "| 02 | 2017 |135 |\n",
       "| 03 | 2017 |117 |\n",
       "| 04 | 2017 |46 |\n",
       "| 05 | 2017 |131 |\n",
       "| 06 | 2017 |214 |\n",
       "| 07 | 2017 |133 |\n",
       "| 08 | 2017 |138 |\n",
       "| 09 | 2017 |55 |\n",
       "| 10 | 2017 |92 |\n",
       "| 11 | 2017 |43 |\n",
       "| 12 | 2017 |102 |\n",
       "| 01 | 2018 |57 |\n",
       "| 02 | 2018 |101 |\n",
       "| 03 | 2018 |122 |\n",
       "| 04 | 2018 |93 |\n",
       "| 05 | 2018 |419 |\n",
       "| 06 | 2018 |399 |\n",
       "| 07 | 2018 |309 |\n",
       "| 08 | 2018 |168 |\n",
       "| 09 | 2018 |29 |\n"
      ],
      "text/plain": [
       "<IPython.core.display.Markdown object>"
      ]
     },
     "metadata": {},
     "output_type": "display_data"
    },
    {
     "name": "stdout",
     "output_type": "stream",
     "text": [
      "***************************\n",
      "***************************\n"
     ]
    }
   ],
   "source": [
    "conn = sqlite3.connect(\"twitterTesla.db\")\n",
    "c = conn.cursor()\n",
    "\n",
    "\n",
    "# SQL STATEMENTS\n",
    "total_count_sql = \"\"\"\n",
    "SELECT count(*) as total_count\n",
    "FROM tweets\n",
    "\"\"\"\n",
    "tweet_date_span = \"\"\"\n",
    "SELECT MIN(created_at) as min_date, MAX(created_at) as max_date \n",
    "FROM tweets\n",
    "\"\"\"\n",
    "stock_date_span = \"\"\"\n",
    "SELECT MIN(date) as min_date, MAX(date) as max_date \n",
    "FROM tesla\n",
    "\"\"\"\n",
    "month_counts = \"\"\"\n",
    "SELECT strftime('%m', created_at) as month, strftime('%Y', created_at) as year, count(*) as month_count\n",
    "FROM tweets\n",
    "GROUP BY month, year\n",
    "ORDER BY year, month\n",
    "\"\"\"\n",
    "# tweet_and_stock_sql = \"\"\"\n",
    "# SELECT strftime(created_at) as date, full_text\n",
    "# FROM tweets t\n",
    "#     RIGHT JOIN tesla a ON t.created_at = a.date\n",
    "# GROUP BY date\n",
    "# ORDER BY date\n",
    "# \"\"\"\n",
    "full_outer_join = \"\"\"\n",
    "SELECT t.full_text,\n",
    "        t.created_at,\n",
    "        s.date,\n",
    "        s.open,\n",
    "        s.close\n",
    "FROM tweets t\n",
    "LEFT JOIN tesla s ON t.created_at = s.date\n",
    "WHERE s.date IS NOT NULL AND t.created_at IS NOT NULL AND s.date=\"2018-08-07\"\n",
    "UNION ALL\n",
    "SELECT t.full_text,\n",
    "        t.created_at,\n",
    "        s.date,\n",
    "        s.open,\n",
    "        s.close\n",
    "FROM tesla s\n",
    "LEFT JOIN tweets t ON t.created_at = s.date\n",
    "WHERE s.date IS NOT NULL AND t.created_at IS NOT NULL AND s.date=\"2018-08-07\";\n",
    "\"\"\"\n",
    "tweet_and_stock_sql = \"\"\"\n",
    "SELECT *\n",
    "FROM tesla a inner join tweets t ON t.created_at = a.date\n",
    "WHERE a.date = \"2018-08-07\"\n",
    "GROUP BY date\n",
    "ORDER BY date\n",
    "\"\"\"\n",
    "stock_quotes_sql = \"\"\"\n",
    "SELECT *\n",
    "FROM tesla a\n",
    "WHERE a.date >= \"2016-10-10\" AND a.date <= \"2018-09-11\"\n",
    "ORDER BY date\n",
    "\"\"\"\n",
    "\n",
    "# EXECUTE THE QUERIES\n",
    "total_count = c.execute(total_count_sql).fetchone()[0]\n",
    "twitter_date_span = c.execute(tweet_date_span).fetchone()\n",
    "tesla_date_span = c.execute(stock_date_span).fetchone()\n",
    "month_count = c.execute(month_counts).fetchall()\n",
    "full_outer_join_command = c.execute(full_outer_join).fetchall()\n",
    "combined = c.execute(tweet_and_stock_sql).fetchall()\n",
    "stock_quotes_command = c.execute(stock_quotes_sql).fetchall()\n",
    "\n",
    "\n",
    "\n",
    "# FORMATTED PRINT STATEMENTS\n",
    "printmd(f\"### Total Tweets: {total_count:,}\")\n",
    "printmd(f\"\"\"\n",
    "### Date Span of Tweets\n",
    "- Earliest Tweet: {twitter_date_span[0]}\n",
    "- Latest Tweet: {twitter_date_span[1]}\n",
    "\"\"\")\n",
    "printmd(f\"\"\"\n",
    "### Date Span of Tesla Quotes\n",
    "- Earliest Quote: {tesla_date_span[0]}\n",
    "- Latest Quote: {tesla_date_span[1]}\n",
    "\"\"\")\n",
    "print_records_by_month = \"\"\"### Tweets by Month\n",
    "|   Month   |    Year   |  Tweets   |\n",
    "|-----------|-----------|-----------|\n",
    "\"\"\"\n",
    "for row in month_count:\n",
    "    print_records_by_month += f\"| {row[0]} | {row[1]} |{row[2]:,} |\\n\"\n",
    "\n",
    "printmd(print_records_by_month)\n",
    "print(\"***************************\")\n",
    "# Why is this not working\n",
    "combined_df = pd.DataFrame(combined, columns=['index','date','close','open','high','low','tweetid','tweetdate','text'])\n",
    "combined_df.head()\n",
    "print(\"***************************\")\n",
    "stock_quotes_command_df = pd.DataFrame(stock_quotes_command, columns=['index','date','close','open','high','low'])\n"
   ]
  },
  {
   "cell_type": "code",
   "execution_count": 10,
   "metadata": {},
   "outputs": [
    {
     "ename": "ValueError",
     "evalue": "expected an element of ColumnData(String, Seq(Any)), got {'xval': 0     2016-10-10\n1     2016-10-11\n3     2016-10-13\n4     2016-10-14\n5     2016-10-17\n8     2016-10-20\n11    2016-10-25\n13    2016-10-27\n14    2016-10-28\n15    2016-10-31\n16    2016-11-01\n17    2016-11-02\n18    2016-11-03\n20    2016-11-07\n23    2016-11-10\n25    2016-11-14\n29    2016-11-18\n30    2016-11-21\n35    2016-11-29\n36    2016-11-30\n37    2016-12-01\n38    2016-12-02\n44    2016-12-12\n46    2016-12-14\n47    2016-12-15\n51    2016-12-21\n55    2016-12-28\n56    2016-12-29\n57    2016-12-30\n63    2017-01-10\n         ...    \n425   2018-06-19\n427   2018-06-21\n428   2018-06-22\n431   2018-06-27\n433   2018-06-29\n434   2018-07-02\n435   2018-07-03\n436   2018-07-05\n439   2018-07-10\n441   2018-07-12\n443   2018-07-16\n445   2018-07-18\n447   2018-07-20\n449   2018-07-24\n452   2018-07-27\n453   2018-07-30\n458   2018-08-06\n461   2018-08-09\n463   2018-08-13\n464   2018-08-14\n465   2018-08-15\n466   2018-08-16\n467   2018-08-17\n474   2018-08-28\n475   2018-08-29\n477   2018-08-31\n478   2018-09-04\n479   2018-09-05\n480   2018-09-06\n483   2018-09-11\nName: date, Length: 244, dtype: datetime64[ns], 'yval': 0      201.15000\n1      200.97500\n3      200.37000\n4      198.58500\n5      195.50500\n8      200.61000\n11     202.62000\n13     207.67500\n14     201.98500\n15     200.11000\n16     194.41500\n17     189.03500\n18     188.21000\n20     193.40000\n23     188.20000\n25     184.72500\n29     187.83500\n30     184.78000\n35     192.56500\n36     190.20000\n37     185.06500\n38     182.17500\n44     192.61500\n46     198.71500\n47     197.99500\n51     208.07500\n55     220.63500\n56     216.62000\n57     214.99500\n63     230.93500\n         ...    \n425    358.85500\n427    354.75500\n428    342.58500\n431    344.75000\n433    348.14000\n434    347.57000\n435    321.30500\n436    311.46000\n439    323.51500\n441    319.07000\n443    310.90500\n445    324.42500\n447    317.40500\n449    300.92545\n452    302.21500\n453    293.03500\n458    343.72500\n461    359.00000\n463    358.77000\n464    353.04500\n465    340.29800\n466    337.68000\n467    314.50000\n474    315.13500\n475    307.64000\n477    301.83000\n478    292.94500\n479    282.89500\n480    282.87500\n483    279.45500\nLength: 244, dtype: float64, 'width': 43200000, 'height': 0       0.4000\n1       1.7500\n3       0.2600\n4       4.1500\n5       3.0900\n8       3.0200\n11      0.5600\n13      7.3300\n14      4.0300\n15      4.7600\n16      7.2500\n17      2.0300\n18      1.5800\n20      0.3800\n23      5.7000\n25      6.5500\n29      5.6300\n30      0.5200\n35      5.9900\n36      1.6000\n37      6.3700\n38      1.4100\n44      0.3700\n46      0.0500\n47      0.8300\n51      0.7500\n55      1.7900\n56      3.8800\n57      2.6100\n63      2.1300\n        ...   \n425    12.6100\n427    14.4900\n428    17.9100\n431     0.5000\n433    10.3800\n434    25.0000\n435    20.8900\n436     4.6000\n439     2.0900\n441     4.7200\n443     1.6100\n445     1.1500\n447     7.6500\n449     6.9909\n452    10.0700\n453     5.7300\n458     3.4700\n461    13.1000\n463     4.7200\n464    10.8100\n465     3.2160\n466     4.4600\n467    18.0000\n474     6.5500\n475     5.2600\n477     0.3400\n478     7.9900\n479     4.3100\n480     3.8500\n483     0.0300\nLength: 244, dtype: float64, 'open': 0      200.95\n1      200.10\n2      201.51\n3      200.24\n4      196.51\n5      193.96\n6      199.10\n7      203.56\n8      199.10\n9      200.09\n10     202.76\n11     202.34\n12     202.24\n13     204.01\n14     199.97\n15     197.73\n16     190.79\n17     188.02\n18     187.42\n19     190.56\n20     193.21\n21     194.94\n22     190.06\n23     185.35\n24     188.56\n25     181.45\n26     183.77\n27     183.93\n28     188.66\n29     185.02\n        ...  \n454    298.14\n455    300.84\n456    349.54\n457    348.17\n458    341.99\n459    379.57\n460    370.34\n461    352.45\n462    355.49\n463    356.41\n464    347.64\n465    338.69\n466    335.45\n467    305.50\n468    308.44\n469    321.90\n470    321.64\n471    320.10\n472    322.82\n473    319.27\n474    311.86\n475    305.01\n476    303.15\n477    301.66\n478    288.95\n479    280.74\n480    280.95\n481    263.24\n482    285.50\n483    279.44\nName: open, Length: 484, dtype: float64, 'close': 0      201.350\n1      201.850\n2      200.950\n3      200.500\n4      200.660\n5      197.050\n6      195.990\n7      199.740\n8      202.120\n9      198.600\n10     201.000\n11     202.900\n12     201.000\n13     211.340\n14     204.000\n15     202.490\n16     198.040\n17     190.050\n18     189.000\n19     189.000\n20     193.590\n21     193.790\n22     186.875\n23     191.050\n24     184.240\n25     188.000\n26     182.780\n27     182.650\n28     183.490\n29     190.650\n        ...   \n454    292.250\n455    297.990\n456    328.440\n457    347.810\n458    345.460\n459    343.840\n460    369.090\n461    365.550\n462    354.000\n463    361.130\n464    358.450\n465    341.906\n466    339.910\n467    323.500\n468    291.704\n469    310.610\n470    320.870\n471    319.140\n472    320.700\n473    318.000\n474    318.410\n475    310.270\n476    302.260\n477    302.000\n478    296.940\n479    285.050\n480    284.800\n481    260.100\n482    273.260\n483    279.470\nName: close, Length: 484, dtype: float64, 'high': 0      204.1400\n1      202.2000\n2      203.8800\n3      200.8950\n4      201.4300\n5      198.3900\n6      199.4700\n7      206.6600\n8      203.0000\n9      201.5700\n10     203.9452\n11     204.6900\n12     203.1900\n13     213.7000\n14     205.3200\n15     202.4900\n16     198.5000\n17     192.6951\n18     191.4700\n19     193.4600\n20     194.2900\n21     197.4900\n22     192.0000\n23     191.6100\n24     188.8800\n25     188.2500\n26     186.4300\n27     184.7300\n28     189.4900\n29     193.0000\n         ...   \n454    298.3200\n455    303.0000\n456    349.9900\n457    355.0000\n458    354.9800\n459    387.4600\n460    382.6400\n461    367.0100\n462    360.0000\n463    363.1900\n464    359.1995\n465    344.4900\n466    342.2800\n467    326.7700\n468    308.5000\n469    324.7900\n470    323.8800\n471    327.3200\n472    323.8500\n473    322.4350\n474    318.8800\n475    311.8500\n476    304.6000\n477    305.3082\n478    298.1900\n479    286.7800\n480    291.1700\n481    268.3500\n482    286.0300\n483    282.0000\nName: high, Length: 484, dtype: float64, 'low': 0      199.6600\n1      198.3100\n2      200.4200\n3      197.0500\n4      196.3000\n5      192.0000\n6      193.2600\n7      198.0600\n8      197.0500\n9      197.4100\n10     200.2500\n11     201.2000\n12     200.1000\n13     201.6500\n14     199.8300\n15     195.8100\n16     188.1050\n17     187.5050\n18     187.0401\n19     185.9600\n20     190.0500\n21     191.2600\n22     183.9500\n23     180.4200\n24     183.0000\n25     178.1900\n26     182.0500\n27     181.2100\n28     182.1101\n29     185.0000\n         ...   \n454    289.0700\n455    293.0000\n456    323.1600\n457    342.5300\n458    341.8200\n459    339.1501\n460    367.1200\n461    345.7300\n462    346.0000\n463    349.0200\n464    347.1000\n465    332.1400\n466    333.8200\n467    303.5300\n468    288.2000\n469    309.0000\n470    314.6700\n471    318.1000\n472    319.4000\n473    308.8100\n474    311.1900\n475    303.6900\n476    297.7200\n477    298.6000\n478    288.0000\n479    277.1800\n480    278.8800\n481    252.2548\n482    271.0000\n483    273.5500\nName: low, Length: 484, dtype: float64}",
     "output_type": "error",
     "traceback": [
      "\u001b[0;31m---------------------------------------------------------------------------\u001b[0m",
      "\u001b[0;31mValueError\u001b[0m                                Traceback (most recent call last)",
      "\u001b[0;32m<ipython-input-10-511d3fa5ef05>\u001b[0m in \u001b[0;36m<module>\u001b[0;34m()\u001b[0m\n\u001b[1;32m     33\u001b[0m     \u001b[0mclose\u001b[0m\u001b[0;34m=\u001b[0m\u001b[0mdf\u001b[0m\u001b[0;34m[\u001b[0m\u001b[0;34m'close'\u001b[0m\u001b[0;34m]\u001b[0m\u001b[0;34m,\u001b[0m\u001b[0;34m\u001b[0m\u001b[0;34m\u001b[0m\u001b[0m\n\u001b[1;32m     34\u001b[0m     \u001b[0mhigh\u001b[0m\u001b[0;34m=\u001b[0m\u001b[0mdf\u001b[0m\u001b[0;34m[\u001b[0m\u001b[0;34m'high'\u001b[0m\u001b[0;34m]\u001b[0m\u001b[0;34m,\u001b[0m\u001b[0;34m\u001b[0m\u001b[0;34m\u001b[0m\u001b[0m\n\u001b[0;32m---> 35\u001b[0;31m     \u001b[0mlow\u001b[0m\u001b[0;34m=\u001b[0m\u001b[0mdf\u001b[0m\u001b[0;34m[\u001b[0m\u001b[0;34m'low'\u001b[0m\u001b[0;34m]\u001b[0m\u001b[0;34m\u001b[0m\u001b[0;34m\u001b[0m\u001b[0m\n\u001b[0m\u001b[1;32m     36\u001b[0m     )\n\u001b[1;32m     37\u001b[0m )\n",
      "\u001b[0;32m~/miniconda3/lib/python3.6/site-packages/bokeh/models/sources.py\u001b[0m in \u001b[0;36m__init__\u001b[0;34m(self, *args, **kw)\u001b[0m\n\u001b[1;32m    143\u001b[0m                 \u001b[0;32mraise\u001b[0m \u001b[0mValueError\u001b[0m\u001b[0;34m(\u001b[0m\u001b[0;34m\"expected a dict or pandas.DataFrame, got %s\"\u001b[0m \u001b[0;34m%\u001b[0m \u001b[0mraw_data\u001b[0m\u001b[0;34m)\u001b[0m\u001b[0;34m\u001b[0m\u001b[0;34m\u001b[0m\u001b[0m\n\u001b[1;32m    144\u001b[0m         \u001b[0msuper\u001b[0m\u001b[0;34m(\u001b[0m\u001b[0mColumnDataSource\u001b[0m\u001b[0;34m,\u001b[0m \u001b[0mself\u001b[0m\u001b[0;34m)\u001b[0m\u001b[0;34m.\u001b[0m\u001b[0m__init__\u001b[0m\u001b[0;34m(\u001b[0m\u001b[0;34m**\u001b[0m\u001b[0mkw\u001b[0m\u001b[0;34m)\u001b[0m\u001b[0;34m\u001b[0m\u001b[0;34m\u001b[0m\u001b[0m\n\u001b[0;32m--> 145\u001b[0;31m         \u001b[0mself\u001b[0m\u001b[0;34m.\u001b[0m\u001b[0mdata\u001b[0m\u001b[0;34m.\u001b[0m\u001b[0mupdate\u001b[0m\u001b[0;34m(\u001b[0m\u001b[0mraw_data\u001b[0m\u001b[0;34m)\u001b[0m\u001b[0;34m\u001b[0m\u001b[0;34m\u001b[0m\u001b[0m\n\u001b[0m\u001b[1;32m    146\u001b[0m \u001b[0;34m\u001b[0m\u001b[0m\n\u001b[1;32m    147\u001b[0m     \u001b[0;34m@\u001b[0m\u001b[0mproperty\u001b[0m\u001b[0;34m\u001b[0m\u001b[0;34m\u001b[0m\u001b[0m\n",
      "\u001b[0;32m~/miniconda3/lib/python3.6/site-packages/bokeh/core/property/wrappers.py\u001b[0m in \u001b[0;36mupdate\u001b[0;34m(self, *args, **kwargs)\u001b[0m\n\u001b[1;32m    392\u001b[0m         \u001b[0;32mfor\u001b[0m \u001b[0;34m(\u001b[0m\u001b[0mowner\u001b[0m\u001b[0;34m,\u001b[0m \u001b[0mdescriptor\u001b[0m\u001b[0;34m)\u001b[0m \u001b[0;32min\u001b[0m \u001b[0mself\u001b[0m\u001b[0;34m.\u001b[0m\u001b[0m_owners\u001b[0m\u001b[0;34m:\u001b[0m\u001b[0;34m\u001b[0m\u001b[0;34m\u001b[0m\u001b[0m\n\u001b[1;32m    393\u001b[0m             \u001b[0mhint\u001b[0m \u001b[0;34m=\u001b[0m \u001b[0mColumnDataChangedEvent\u001b[0m\u001b[0;34m(\u001b[0m\u001b[0mowner\u001b[0m\u001b[0;34m.\u001b[0m\u001b[0mdocument\u001b[0m\u001b[0;34m,\u001b[0m \u001b[0mowner\u001b[0m\u001b[0;34m,\u001b[0m \u001b[0mcols\u001b[0m\u001b[0;34m=\u001b[0m\u001b[0mlist\u001b[0m\u001b[0;34m(\u001b[0m\u001b[0mcols\u001b[0m\u001b[0;34m)\u001b[0m\u001b[0;34m)\u001b[0m\u001b[0;34m\u001b[0m\u001b[0;34m\u001b[0m\u001b[0m\n\u001b[0;32m--> 394\u001b[0;31m             \u001b[0mdescriptor\u001b[0m\u001b[0;34m.\u001b[0m\u001b[0m_notify_mutated\u001b[0m\u001b[0;34m(\u001b[0m\u001b[0mowner\u001b[0m\u001b[0;34m,\u001b[0m \u001b[0mold\u001b[0m\u001b[0;34m,\u001b[0m \u001b[0mhint\u001b[0m\u001b[0;34m=\u001b[0m\u001b[0mhint\u001b[0m\u001b[0;34m)\u001b[0m\u001b[0;34m\u001b[0m\u001b[0;34m\u001b[0m\u001b[0m\n\u001b[0m\u001b[1;32m    395\u001b[0m \u001b[0;34m\u001b[0m\u001b[0m\n\u001b[1;32m    396\u001b[0m         \u001b[0;32mreturn\u001b[0m \u001b[0mresult\u001b[0m\u001b[0;34m\u001b[0m\u001b[0;34m\u001b[0m\u001b[0m\n",
      "\u001b[0;32m~/miniconda3/lib/python3.6/site-packages/bokeh/core/property/descriptors.py\u001b[0m in \u001b[0;36m_notify_mutated\u001b[0;34m(self, obj, old, hint)\u001b[0m\n\u001b[1;32m    872\u001b[0m         \u001b[0;31m# re-validate because the contents of 'old' have changed,\u001b[0m\u001b[0;34m\u001b[0m\u001b[0;34m\u001b[0m\u001b[0;34m\u001b[0m\u001b[0m\n\u001b[1;32m    873\u001b[0m         \u001b[0;31m# in some cases this could give us a new object for the value\u001b[0m\u001b[0;34m\u001b[0m\u001b[0;34m\u001b[0m\u001b[0;34m\u001b[0m\u001b[0m\n\u001b[0;32m--> 874\u001b[0;31m         \u001b[0mvalue\u001b[0m \u001b[0;34m=\u001b[0m \u001b[0mself\u001b[0m\u001b[0;34m.\u001b[0m\u001b[0mproperty\u001b[0m\u001b[0;34m.\u001b[0m\u001b[0mprepare_value\u001b[0m\u001b[0;34m(\u001b[0m\u001b[0mobj\u001b[0m\u001b[0;34m,\u001b[0m \u001b[0mself\u001b[0m\u001b[0;34m.\u001b[0m\u001b[0mname\u001b[0m\u001b[0;34m,\u001b[0m \u001b[0mvalue\u001b[0m\u001b[0;34m)\u001b[0m\u001b[0;34m\u001b[0m\u001b[0;34m\u001b[0m\u001b[0m\n\u001b[0m\u001b[1;32m    875\u001b[0m \u001b[0;34m\u001b[0m\u001b[0m\n\u001b[1;32m    876\u001b[0m         \u001b[0mself\u001b[0m\u001b[0;34m.\u001b[0m\u001b[0m_real_set\u001b[0m\u001b[0;34m(\u001b[0m\u001b[0mobj\u001b[0m\u001b[0;34m,\u001b[0m \u001b[0mold\u001b[0m\u001b[0;34m,\u001b[0m \u001b[0mvalue\u001b[0m\u001b[0;34m,\u001b[0m \u001b[0mhint\u001b[0m\u001b[0;34m=\u001b[0m\u001b[0mhint\u001b[0m\u001b[0;34m)\u001b[0m\u001b[0;34m\u001b[0m\u001b[0;34m\u001b[0m\u001b[0m\n",
      "\u001b[0;32m~/miniconda3/lib/python3.6/site-packages/bokeh/core/property/bases.py\u001b[0m in \u001b[0;36mprepare_value\u001b[0;34m(self, obj_or_cls, name, value)\u001b[0m\n\u001b[1;32m    326\u001b[0m                     \u001b[0;32mbreak\u001b[0m\u001b[0;34m\u001b[0m\u001b[0;34m\u001b[0m\u001b[0m\n\u001b[1;32m    327\u001b[0m             \u001b[0;32melse\u001b[0m\u001b[0;34m:\u001b[0m\u001b[0;34m\u001b[0m\u001b[0;34m\u001b[0m\u001b[0m\n\u001b[0;32m--> 328\u001b[0;31m                 \u001b[0;32mraise\u001b[0m \u001b[0me\u001b[0m\u001b[0;34m\u001b[0m\u001b[0;34m\u001b[0m\u001b[0m\n\u001b[0m\u001b[1;32m    329\u001b[0m         \u001b[0;32melse\u001b[0m\u001b[0;34m:\u001b[0m\u001b[0;34m\u001b[0m\u001b[0;34m\u001b[0m\u001b[0m\n\u001b[1;32m    330\u001b[0m             \u001b[0mvalue\u001b[0m \u001b[0;34m=\u001b[0m \u001b[0mself\u001b[0m\u001b[0;34m.\u001b[0m\u001b[0mtransform\u001b[0m\u001b[0;34m(\u001b[0m\u001b[0mvalue\u001b[0m\u001b[0;34m)\u001b[0m\u001b[0;34m\u001b[0m\u001b[0;34m\u001b[0m\u001b[0m\n",
      "\u001b[0;32m~/miniconda3/lib/python3.6/site-packages/bokeh/core/property/bases.py\u001b[0m in \u001b[0;36mprepare_value\u001b[0;34m(self, obj_or_cls, name, value)\u001b[0m\n\u001b[1;32m    319\u001b[0m         \u001b[0;32mtry\u001b[0m\u001b[0;34m:\u001b[0m\u001b[0;34m\u001b[0m\u001b[0;34m\u001b[0m\u001b[0m\n\u001b[1;32m    320\u001b[0m             \u001b[0;32mif\u001b[0m \u001b[0mvalidation_on\u001b[0m\u001b[0;34m(\u001b[0m\u001b[0;34m)\u001b[0m\u001b[0;34m:\u001b[0m\u001b[0;34m\u001b[0m\u001b[0;34m\u001b[0m\u001b[0m\n\u001b[0;32m--> 321\u001b[0;31m                 \u001b[0mself\u001b[0m\u001b[0;34m.\u001b[0m\u001b[0mvalidate\u001b[0m\u001b[0;34m(\u001b[0m\u001b[0mvalue\u001b[0m\u001b[0;34m)\u001b[0m\u001b[0;34m\u001b[0m\u001b[0;34m\u001b[0m\u001b[0m\n\u001b[0m\u001b[1;32m    322\u001b[0m         \u001b[0;32mexcept\u001b[0m \u001b[0mValueError\u001b[0m \u001b[0;32mas\u001b[0m \u001b[0me\u001b[0m\u001b[0;34m:\u001b[0m\u001b[0;34m\u001b[0m\u001b[0;34m\u001b[0m\u001b[0m\n\u001b[1;32m    323\u001b[0m             \u001b[0;32mfor\u001b[0m \u001b[0mtp\u001b[0m\u001b[0;34m,\u001b[0m \u001b[0mconverter\u001b[0m \u001b[0;32min\u001b[0m \u001b[0mself\u001b[0m\u001b[0;34m.\u001b[0m\u001b[0malternatives\u001b[0m\u001b[0;34m:\u001b[0m\u001b[0;34m\u001b[0m\u001b[0;34m\u001b[0m\u001b[0m\n",
      "\u001b[0;32m~/miniconda3/lib/python3.6/site-packages/bokeh/core/property/container.py\u001b[0m in \u001b[0;36mvalidate\u001b[0;34m(self, value, detail)\u001b[0m\n\u001b[1;32m    189\u001b[0m                     all(self.keys_type.is_valid(key) and self.values_type.is_valid(val) for key, val in iteritems(value))):\n\u001b[1;32m    190\u001b[0m                 \u001b[0mmsg\u001b[0m \u001b[0;34m=\u001b[0m \u001b[0;34m\"\"\u001b[0m \u001b[0;32mif\u001b[0m \u001b[0;32mnot\u001b[0m \u001b[0mdetail\u001b[0m \u001b[0;32melse\u001b[0m \u001b[0;34m\"expected an element of %s, got %r\"\u001b[0m \u001b[0;34m%\u001b[0m \u001b[0;34m(\u001b[0m\u001b[0mself\u001b[0m\u001b[0;34m,\u001b[0m \u001b[0mvalue\u001b[0m\u001b[0;34m)\u001b[0m\u001b[0;34m\u001b[0m\u001b[0;34m\u001b[0m\u001b[0m\n\u001b[0;32m--> 191\u001b[0;31m                 \u001b[0;32mraise\u001b[0m \u001b[0mValueError\u001b[0m\u001b[0;34m(\u001b[0m\u001b[0mmsg\u001b[0m\u001b[0;34m)\u001b[0m\u001b[0;34m\u001b[0m\u001b[0;34m\u001b[0m\u001b[0m\n\u001b[0m\u001b[1;32m    192\u001b[0m \u001b[0;34m\u001b[0m\u001b[0m\n\u001b[1;32m    193\u001b[0m     \u001b[0;34m@\u001b[0m\u001b[0mclassmethod\u001b[0m\u001b[0;34m\u001b[0m\u001b[0;34m\u001b[0m\u001b[0m\n",
      "\u001b[0;31mValueError\u001b[0m: expected an element of ColumnData(String, Seq(Any)), got {'xval': 0     2016-10-10\n1     2016-10-11\n3     2016-10-13\n4     2016-10-14\n5     2016-10-17\n8     2016-10-20\n11    2016-10-25\n13    2016-10-27\n14    2016-10-28\n15    2016-10-31\n16    2016-11-01\n17    2016-11-02\n18    2016-11-03\n20    2016-11-07\n23    2016-11-10\n25    2016-11-14\n29    2016-11-18\n30    2016-11-21\n35    2016-11-29\n36    2016-11-30\n37    2016-12-01\n38    2016-12-02\n44    2016-12-12\n46    2016-12-14\n47    2016-12-15\n51    2016-12-21\n55    2016-12-28\n56    2016-12-29\n57    2016-12-30\n63    2017-01-10\n         ...    \n425   2018-06-19\n427   2018-06-21\n428   2018-06-22\n431   2018-06-27\n433   2018-06-29\n434   2018-07-02\n435   2018-07-03\n436   2018-07-05\n439   2018-07-10\n441   2018-07-12\n443   2018-07-16\n445   2018-07-18\n447   2018-07-20\n449   2018-07-24\n452   2018-07-27\n453   2018-07-30\n458   2018-08-06\n461   2018-08-09\n463   2018-08-13\n464   2018-08-14\n465   2018-08-15\n466   2018-08-16\n467   2018-08-17\n474   2018-08-28\n475   2018-08-29\n477   2018-08-31\n478   2018-09-04\n479   2018-09-05\n480   2018-09-06\n483   2018-09-11\nName: date, Length: 244, dtype: datetime64[ns], 'yval': 0      201.15000\n1      200.97500\n3      200.37000\n4      198.58500\n5      195.50500\n8      200.61000\n11     202.62000\n13     207.67500\n14     201.98500\n15     200.11000\n16     194.41500\n17     189.03500\n18     188.21000\n20     193.40000\n23     188.20000\n25     184.72500\n29     187.83500\n30     184.78000\n35     192.56500\n36     190.20000\n37     185.06500\n38     182.17500\n44     192.61500\n46     198.71500\n47     197.99500\n51     208.07500\n55     220.63500\n56     216.62000\n57     214.99500\n63     230.93500\n         ...    \n425    358.85500\n427    354.75500\n428    342.58500\n431    344.75000\n433    348.14000\n434    347.57000\n435    321.30500\n436    311.46000\n439    323.51500\n441    319.07000\n443    310.90500\n445    324.42500\n447    317.40500\n449    300.92545\n452    302.21500\n453    293.03500\n458    343.72500\n461    359.00000\n463    358.77000\n464    353.04500\n465    340.29800\n466    337.68000\n467    314.50000\n474    315.13500\n475    307.64000\n477    301.83000\n478    292.94500\n479    282.89500\n480    282.87500\n483    279.45500\nLength: 244, dtype: float64, 'width': 43200000, 'height': 0       0.4000\n1       1.7500\n3       0.2600\n4       4.1500\n5       3.0900\n8       3.0200\n11      0.5600\n13      7.3300\n14      4.0300\n15      4.7600\n16      7.2500\n17      2.0300\n18      1.5800\n20      0.3800\n23      5.7000\n25      6.5500\n29      5.6300\n30      0.5200\n35      5.9900\n36      1.6000\n37      6.3700\n38      1.4100\n44      0.3700\n46      0.0500\n47      0.8300\n51      0.7500\n55      1.7900\n56      3.8800\n57      2.6100\n63      2.1300\n        ...   \n425    12.6100\n427    14.4900\n428    17.9100\n431     0.5000\n433    10.3800\n434    25.0000\n435    20.8900\n436     4.6000\n439     2.0900\n441     4.7200\n443     1.6100\n445     1.1500\n447     7.6500\n449     6.9909\n452    10.0700\n453     5.7300\n458     3.4700\n461    13.1000\n463     4.7200\n464    10.8100\n465     3.2160\n466     4.4600\n467    18.0000\n474     6.5500\n475     5.2600\n477     0.3400\n478     7.9900\n479     4.3100\n480     3.8500\n483     0.0300\nLength: 244, dtype: float64, 'open': 0      200.95\n1      200.10\n2      201.51\n3      200.24\n4      196.51\n5      193.96\n6      199.10\n7      203.56\n8      199.10\n9      200.09\n10     202.76\n11     202.34\n12     202.24\n13     204.01\n14     199.97\n15     197.73\n16     190.79\n17     188.02\n18     187.42\n19     190.56\n20     193.21\n21     194.94\n22     190.06\n23     185.35\n24     188.56\n25     181.45\n26     183.77\n27     183.93\n28     188.66\n29     185.02\n        ...  \n454    298.14\n455    300.84\n456    349.54\n457    348.17\n458    341.99\n459    379.57\n460    370.34\n461    352.45\n462    355.49\n463    356.41\n464    347.64\n465    338.69\n466    335.45\n467    305.50\n468    308.44\n469    321.90\n470    321.64\n471    320.10\n472    322.82\n473    319.27\n474    311.86\n475    305.01\n476    303.15\n477    301.66\n478    288.95\n479    280.74\n480    280.95\n481    263.24\n482    285.50\n483    279.44\nName: open, Length: 484, dtype: float64, 'close': 0      201.350\n1      201.850\n2      200.950\n3      200.500\n4      200.660\n5      197.050\n6      195.990\n7      199.740\n8      202.120\n9      198.600\n10     201.000\n11     202.900\n12     201.000\n13     211.340\n14     204.000\n15     202.490\n16     198.040\n17     190.050\n18     189.000\n19     189.000\n20     193.590\n21     193.790\n22     186.875\n23     191.050\n24     184.240\n25     188.000\n26     182.780\n27     182.650\n28     183.490\n29     190.650\n        ...   \n454    292.250\n455    297.990\n456    328.440\n457    347.810\n458    345.460\n459    343.840\n460    369.090\n461    365.550\n462    354.000\n463    361.130\n464    358.450\n465    341.906\n466    339.910\n467    323.500\n468    291.704\n469    310.610\n470    320.870\n471    319.140\n472    320.700\n473    318.000\n474    318.410\n475    310.270\n476    302.260\n477    302.000\n478    296.940\n479    285.050\n480    284.800\n481    260.100\n482    273.260\n483    279.470\nName: close, Length: 484, dtype: float64, 'high': 0      204.1400\n1      202.2000\n2      203.8800\n3      200.8950\n4      201.4300\n5      198.3900\n6      199.4700\n7      206.6600\n8      203.0000\n9      201.5700\n10     203.9452\n11     204.6900\n12     203.1900\n13     213.7000\n14     205.3200\n15     202.4900\n16     198.5000\n17     192.6951\n18     191.4700\n19     193.4600\n20     194.2900\n21     197.4900\n22     192.0000\n23     191.6100\n24     188.8800\n25     188.2500\n26     186.4300\n27     184.7300\n28     189.4900\n29     193.0000\n         ...   \n454    298.3200\n455    303.0000\n456    349.9900\n457    355.0000\n458    354.9800\n459    387.4600\n460    382.6400\n461    367.0100\n462    360.0000\n463    363.1900\n464    359.1995\n465    344.4900\n466    342.2800\n467    326.7700\n468    308.5000\n469    324.7900\n470    323.8800\n471    327.3200\n472    323.8500\n473    322.4350\n474    318.8800\n475    311.8500\n476    304.6000\n477    305.3082\n478    298.1900\n479    286.7800\n480    291.1700\n481    268.3500\n482    286.0300\n483    282.0000\nName: high, Length: 484, dtype: float64, 'low': 0      199.6600\n1      198.3100\n2      200.4200\n3      197.0500\n4      196.3000\n5      192.0000\n6      193.2600\n7      198.0600\n8      197.0500\n9      197.4100\n10     200.2500\n11     201.2000\n12     200.1000\n13     201.6500\n14     199.8300\n15     195.8100\n16     188.1050\n17     187.5050\n18     187.0401\n19     185.9600\n20     190.0500\n21     191.2600\n22     183.9500\n23     180.4200\n24     183.0000\n25     178.1900\n26     182.0500\n27     181.2100\n28     182.1101\n29     185.0000\n         ...   \n454    289.0700\n455    293.0000\n456    323.1600\n457    342.5300\n458    341.8200\n459    339.1501\n460    367.1200\n461    345.7300\n462    346.0000\n463    349.0200\n464    347.1000\n465    332.1400\n466    333.8200\n467    303.5300\n468    288.2000\n469    309.0000\n470    314.6700\n471    318.1000\n472    319.4000\n473    308.8100\n474    311.1900\n475    303.6900\n476    297.7200\n477    298.6000\n478    288.0000\n479    277.1800\n480    278.8800\n481    252.2548\n482    271.0000\n483    273.5500\nName: low, Length: 484, dtype: float64}"
     ]
    }
   ],
   "source": [
    "from math import pi\n",
    "\n",
    "import pandas as pd\n",
    "\n",
    "from bokeh.plotting import figure, show, output_notebook, ColumnDataSource\n",
    "\n",
    "df = pd.DataFrame(stock_quotes_command_df)[:]\n",
    "df[\"date\"] = pd.to_datetime(df[\"date\"])\n",
    "\n",
    "mids = (df.open + df.close)/2\n",
    "spans = abs(df.close-df.open)\n",
    "\n",
    "inc = df.close > df.open\n",
    "dec = df.open > df.close\n",
    "w = 12*60*60*1000 # half day in ms\n",
    "\n",
    "TOOLS = \"pan,wheel_zoom,box_zoom,hover,reset,save\"\n",
    "\n",
    "TOOLTIPS = [\n",
    "    (\"open\", \"@open\"),\n",
    "    (\"close\", \"@close\"),\n",
    "    (\"high\", \"@high\"),\n",
    "    (\"low\", \"@low\"),\n",
    "    (\"Date\", \"@date\")\n",
    "]\n",
    "\n",
    "SOURCE1 = ColumnDataSource(data=dict(\n",
    "    xval=df.date[inc],\n",
    "    yval=mids[inc],\n",
    "    width=w,\n",
    "    height=spans[inc],\n",
    "    open=df['open'],\n",
    "    close=df['close'],\n",
    "    high=df['high'],\n",
    "    low=df['low']\n",
    "    )\n",
    ")\n",
    "\n",
    "SOURCE2 = ColumnDataSource(data=dict(\n",
    "    xval=df.date[dec],\n",
    "    yval=mids[dec],\n",
    "    width=w,\n",
    "    height=spans[dec],\n",
    "    open=df['open'],\n",
    "    close=df['close'],\n",
    "    high=df['high'],\n",
    "    low=df['low']\n",
    "    )\n",
    ")\n",
    "\n",
    "p = figure(x_axis_type=\"datetime\", tools=TOOLS, tooltips=TOOLTIPS, \n",
    "           plot_width=1000, toolbar_location=\"left\", title=\"Tesla Candlestick\")\n",
    "\n",
    "# Adjust labels to 45 degree angle\n",
    "p.xaxis.major_label_orientation = pi/4\n",
    "p.grid.grid_line_alpha=0.3\n",
    "\n",
    "# Create candlesticks\n",
    "p.segment(df.date, df.high, df.date, df.low, color=\"black\")\n",
    "p.rect('xval', 'yval', 'width', 'height', \n",
    "       fill_color=\"#F2583E\", line_color=\"black\", source=SOURCE1)\n",
    "p.rect('xval', 'yval', 'width', 'height', \n",
    "       fill_color=\"#D5E1DD\", line_color=\"black\", source=SOURCE2)\n",
    "output_notebook()\n",
    "show(p)\n"
   ]
  },
  {
   "cell_type": "code",
   "execution_count": null,
   "metadata": {},
   "outputs": [],
   "source": []
  }
 ],
 "metadata": {
  "kernelspec": {
   "display_name": "Python 3",
   "language": "python",
   "name": "python3"
  },
  "language_info": {
   "codemirror_mode": {
    "name": "ipython",
    "version": 3
   },
   "file_extension": ".py",
   "mimetype": "text/x-python",
   "name": "python",
   "nbconvert_exporter": "python",
   "pygments_lexer": "ipython3",
   "version": "3.6.7"
  }
 },
 "nbformat": 4,
 "nbformat_minor": 2
}
