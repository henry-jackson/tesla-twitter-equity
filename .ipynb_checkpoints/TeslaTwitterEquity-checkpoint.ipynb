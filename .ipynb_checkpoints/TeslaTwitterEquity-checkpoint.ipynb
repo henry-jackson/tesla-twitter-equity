{
 "cells": [
  {
   "cell_type": "code",
   "execution_count": 1,
   "metadata": {},
   "outputs": [],
   "source": [
    "import sqlite3\n",
    "import pandas as pd\n",
    "import json\n",
    "import os\n",
    "import matplotlib.pyplot as plt\n",
    "from IPython.display import Markdown, display\n",
    "import calendar\n",
    "\n",
    "\n",
    "# Allow Markdown characters in the print statement\n",
    "# this can make the output more print ready\n",
    "def printmd(string):\n",
    "    display(Markdown(string))"
   ]
  },
  {
   "cell_type": "code",
   "execution_count": 2,
   "metadata": {},
   "outputs": [],
   "source": [
    "conn = sqlite3.connect(\"twitterTesla.db\")\n",
    "c = conn.cursor()\n",
    "\n",
    "# Create tesla table to hold Elon Musk's tweets\n",
    "\n",
    "sql_create = \"\"\"\n",
    "CREATE TABLE IF NOT EXISTS tweets (\n",
    "    id_str TEXT PRIMARY KEY,\n",
    "    created_at INTEGER,\n",
    "    full_text TEXT\n",
    ");\n",
    "\"\"\"\n",
    "\n",
    "# remove any data from a previous run\n",
    "sql_delete = \"DELETE FROM tweets\"\n",
    "\n",
    "try:\n",
    "    c.execute(sql_create)\n",
    "    c.execute(sql_delete)\n",
    "    conn.commit()\n",
    "finally:\n",
    "    conn.rollback()\n",
    "    c.close()\n",
    "    conn.close()"
   ]
  },
  {
   "cell_type": "code",
   "execution_count": 3,
   "metadata": {},
   "outputs": [],
   "source": [
    "conn = sqlite3.connect(\"twitterTesla.db\")\n",
    "c = conn.cursor()\n",
    "\n",
    "# Create tesla table to hold stock prices\n",
    "\n",
    "sql_create = \"\"\"\n",
    "CREATE TABLE IF NOT EXISTS tesla (\n",
    "    id INTEGER PRIMARY KEY,\n",
    "    date TEXT,\n",
    "    open DECIMAL(6,2),\n",
    "    close DECIMAL(6,2),\n",
    "    high DECIMAL(6,2),\n",
    "    low DECIMAL(6,2)\n",
    ");\n",
    "\"\"\"\n",
    "\n",
    "# remove any data from a previous run\n",
    "sql_delete = \"DELETE FROM tesla\"\n",
    "\n",
    "try:\n",
    "    c.execute(sql_create)\n",
    "    c.execute(sql_delete)\n",
    "    conn.commit()\n",
    "finally:\n",
    "    conn.rollback()\n",
    "    c.close()\n",
    "    conn.close()"
   ]
  },
  {
   "cell_type": "code",
   "execution_count": 4,
   "metadata": {},
   "outputs": [
    {
     "data": {
      "text/plain": [
       "<sqlite3.Cursor at 0x11d3e3ea0>"
      ]
     },
     "execution_count": 4,
     "metadata": {},
     "output_type": "execute_result"
    }
   ],
   "source": [
    "# Sqlite db file will continute to grow in size after any deletes or drops\n",
    "# This will optimize the database file and reduce its size\n",
    "# You can also just remove the db file and recreate.\n",
    "# http://www.sqlitetutorial.net/sqlite-vacuum/\n",
    "conn = sqlite3.connect(\"twitterTesla.db\")\n",
    "conn.execute(\"VACUUM\")"
   ]
  },
  {
   "cell_type": "code",
   "execution_count": 5,
   "metadata": {},
   "outputs": [],
   "source": [
    "conn = sqlite3.connect(\"twitterTesla.db\")\n",
    "\n",
    "# load stock into sqlite table\n",
    "filepath = 'csv/tslaquotes.csv'\n",
    "\n",
    "# read csv file\n",
    "stock_df = pd.read_csv(filepath, parse_dates=['date'], usecols=['date', 'close', 'open', 'high', 'low'])\n",
    "\n",
    "# drop any time values\n",
    "stock_df['date'] = stock_df['date'].dt.date\n",
    "\n",
    "# append the data to the 'tesla' table in the 'teslaTwitter.db'\n",
    "stock_df.to_sql(\"tesla\", conn, if_exists = \"append\", index=False)"
   ]
  },
  {
   "cell_type": "code",
   "execution_count": 6,
   "metadata": {},
   "outputs": [],
   "source": [
    "conn = sqlite3.connect(\"twitterTesla.db\")\n",
    "\n",
    "# Pull out all of the json and put it into a tweets array to iterate through and create the data frame with\n",
    "with open(os.path.join('json/', 'musktweets.json')) as json_file:\n",
    "    tweets = []\n",
    "    for line in json_file:\n",
    "        tweets.append(json.loads(line))\n",
    "\n",
    "tweet_df = pd.DataFrame(tweets, columns=['id_str','created_at','full_text'])\n",
    "\n",
    "# Drop time values and change date format of %Y-%m-%d to match stock quotes\n",
    "tweet_df['created_at'] = pd.to_datetime(tweet_df['created_at'], format='%a %b %d %H:%M:%S +0000 %Y', utc=True)\n",
    "tweet_df['created_at'] = pd.DatetimeIndex(tweet_df.created_at).date\n",
    "\n",
    "# append the data to the 'tweets' table in 'teslaTwitter.db'\n",
    "tweet_df.to_sql(\"tweets\", conn, if_exists=\"append\", index=False)"
   ]
  },
  {
   "cell_type": "code",
   "execution_count": 11,
   "metadata": {},
   "outputs": [
    {
     "data": {
      "text/markdown": [
       "### Total Tweets: 3,204"
      ],
      "text/plain": [
       "<IPython.core.display.Markdown object>"
      ]
     },
     "metadata": {},
     "output_type": "display_data"
    },
    {
     "data": {
      "text/markdown": [
       "\n",
       "### Date Span of Tweets\n",
       "- Earliest Tweet: 2016-10-10\n",
       "- Latest Tweet: 2018-09-11\n"
      ],
      "text/plain": [
       "<IPython.core.display.Markdown object>"
      ]
     },
     "metadata": {},
     "output_type": "display_data"
    },
    {
     "data": {
      "text/markdown": [
       "\n",
       "### Date Span of Tesla Quotes\n",
       "- Earliest Quote: 2015-10-22\n",
       "- Latest Quote: 2018-11-07\n"
      ],
      "text/plain": [
       "<IPython.core.display.Markdown object>"
      ]
     },
     "metadata": {},
     "output_type": "display_data"
    },
    {
     "data": {
      "text/markdown": [
       "### Tweets by Month\n",
       "|   Month   |    Year   |  Tweets   |\n",
       "|-----------|-----------|-----------|\n",
       "| 10 | 2016 |62 |\n",
       "| 11 | 2016 |82 |\n",
       "| 12 | 2016 |50 |\n",
       "| 01 | 2017 |107 |\n",
       "| 02 | 2017 |135 |\n",
       "| 03 | 2017 |117 |\n",
       "| 04 | 2017 |46 |\n",
       "| 05 | 2017 |131 |\n",
       "| 06 | 2017 |214 |\n",
       "| 07 | 2017 |133 |\n",
       "| 08 | 2017 |138 |\n",
       "| 09 | 2017 |55 |\n",
       "| 10 | 2017 |92 |\n",
       "| 11 | 2017 |43 |\n",
       "| 12 | 2017 |102 |\n",
       "| 01 | 2018 |57 |\n",
       "| 02 | 2018 |101 |\n",
       "| 03 | 2018 |122 |\n",
       "| 04 | 2018 |93 |\n",
       "| 05 | 2018 |419 |\n",
       "| 06 | 2018 |399 |\n",
       "| 07 | 2018 |309 |\n",
       "| 08 | 2018 |168 |\n",
       "| 09 | 2018 |29 |\n"
      ],
      "text/plain": [
       "<IPython.core.display.Markdown object>"
      ]
     },
     "metadata": {},
     "output_type": "display_data"
    },
    {
     "name": "stdout",
     "output_type": "stream",
     "text": [
      "[(55, '2018-08-07', 343.84, 379.57, 387.46, 339.1501, '1026914941004001280', '2018-08-07', 'Investor support is confirmed. Only reason why this is not certain is that it’s contingent on a shareholder vote. https://t.co/bIH4Td5fED')]\n",
      "1\n",
      "***************************\n",
      "[('@EvotoRentals Yes', '2018-08-07', '2018-08-07', 343.84, 379.57), ('@FredericLambert I don’t have a controlling vote now &amp; wouldn’t expect any shareholder to have one if we go private. I won’t be selling in either scenario.', '2018-08-07', '2018-08-07', 343.84, 379.57), ('@FredericLambert No change', '2018-08-07', '2018-08-07', 343.84, 379.57), ('@Gfilche My hope is *all* current investors remain with Tesla even if we’re private. Would create special purpose fund enabling anyone to stay with Tesla. Already do this with Fidelity’s SpaceX investment.', '2018-08-07', '2018-08-07', 343.84, 379.57), ('@LizClaman @Tesla 420', '2018-08-07', '2018-08-07', 343.84, 379.57)]\n",
      "30\n"
     ]
    }
   ],
   "source": [
    "conn = sqlite3.connect(\"twitterTesla.db\")\n",
    "c = conn.cursor()\n",
    "\n",
    "\n",
    "# SQL STATEMENTS\n",
    "total_count_sql = \"\"\"\n",
    "SELECT count(*) as total_count\n",
    "FROM tweets\n",
    "\"\"\"\n",
    "tweet_date_span = \"\"\"\n",
    "SELECT MIN(created_at) as min_date, MAX(created_at) as max_date \n",
    "FROM tweets\n",
    "\"\"\"\n",
    "stock_date_span = \"\"\"\n",
    "SELECT MIN(date) as min_date, MAX(date) as max_date \n",
    "FROM tesla\n",
    "\"\"\"\n",
    "month_counts = \"\"\"\n",
    "SELECT strftime('%m', created_at) as month, strftime('%Y', created_at) as year, count(*) as month_count\n",
    "FROM tweets\n",
    "GROUP BY month, year\n",
    "ORDER BY year, month\n",
    "\"\"\"\n",
    "# tweet_and_stock_sql = \"\"\"\n",
    "# SELECT strftime(created_at) as date, full_text\n",
    "# FROM tweets t\n",
    "#     RIGHT JOIN tesla a ON t.created_at = a.date\n",
    "# GROUP BY date\n",
    "# ORDER BY date\n",
    "# \"\"\"\n",
    "full_outer_join = \"\"\"\n",
    "SELECT t.full_text,\n",
    "        t.created_at,\n",
    "        s.date,\n",
    "        s.open,\n",
    "        s.close\n",
    "FROM tweets t\n",
    "LEFT JOIN tesla s ON t.created_at = s.date\n",
    "WHERE s.date IS NOT NULL AND t.created_at IS NOT NULL AND s.date=\"2018-08-07\"\n",
    "UNION ALL\n",
    "SELECT t.full_text,\n",
    "        t.created_at,\n",
    "        s.date,\n",
    "        s.open,\n",
    "        s.close\n",
    "FROM tesla s\n",
    "LEFT JOIN tweets t ON t.created_at = s.date\n",
    "WHERE s.date IS NOT NULL AND t.created_at IS NOT NULL AND s.date=\"2018-08-07\";\n",
    "\"\"\"\n",
    "tweet_and_stock_sql = \"\"\"\n",
    "SELECT *\n",
    "FROM tesla a inner join tweets t ON t.created_at = a.date\n",
    "WHERE a.date = \"2018-08-07\"\n",
    "GROUP BY date\n",
    "ORDER BY date\n",
    "\"\"\"\n",
    "\n",
    "# EXECUTE THE QUERIES\n",
    "total_count = c.execute(total_count_sql).fetchone()[0]\n",
    "twitter_date_span = c.execute(tweet_date_span).fetchone()\n",
    "tesla_date_span = c.execute(stock_date_span).fetchone()\n",
    "month_count = c.execute(month_counts).fetchall()\n",
    "combined = c.execute(tweet_and_stock_sql).fetchall()\n",
    "full_outer_join_command = c.execute(full_outer_join).fetchall()\n",
    "\n",
    "\n",
    "\n",
    "# FORMATTED PRINT STATEMENTS\n",
    "printmd(f\"### Total Tweets: {total_count:,}\")\n",
    "printmd(f\"\"\"\n",
    "### Date Span of Tweets\n",
    "- Earliest Tweet: {twitter_date_span[0]}\n",
    "- Latest Tweet: {twitter_date_span[1]}\n",
    "\"\"\")\n",
    "printmd(f\"\"\"\n",
    "### Date Span of Tesla Quotes\n",
    "- Earliest Quote: {tesla_date_span[0]}\n",
    "- Latest Quote: {tesla_date_span[1]}\n",
    "\"\"\")\n",
    "print_records_by_month = \"\"\"### Tweets by Month\n",
    "|   Month   |    Year   |  Tweets   |\n",
    "|-----------|-----------|-----------|\n",
    "\"\"\"\n",
    "for row in month_count:\n",
    "    print_records_by_month += f\"| {row[0]} | {row[1]} |{row[2]:,} |\\n\"\n",
    "\n",
    "printmd(print_records_by_month)\n",
    "\n",
    "print(combined[0:5])\n",
    "print(len(combined))\n",
    "print(\"***************************\")\n",
    "print(full_outer_join_command[:5])\n",
    "print(len(full_outer_join_command))\n"
   ]
  },
  {
   "cell_type": "code",
   "execution_count": null,
   "metadata": {},
   "outputs": [],
   "source": []
  }
 ],
 "metadata": {
  "kernelspec": {
   "display_name": "Python 3",
   "language": "python",
   "name": "python3"
  },
  "language_info": {
   "codemirror_mode": {
    "name": "ipython",
    "version": 3
   },
   "file_extension": ".py",
   "mimetype": "text/x-python",
   "name": "python",
   "nbconvert_exporter": "python",
   "pygments_lexer": "ipython3",
   "version": "3.6.5"
  }
 },
 "nbformat": 4,
 "nbformat_minor": 2
}
