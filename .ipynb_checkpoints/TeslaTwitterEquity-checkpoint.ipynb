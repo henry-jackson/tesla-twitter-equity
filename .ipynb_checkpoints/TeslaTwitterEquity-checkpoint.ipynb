{
 "cells": [
  {
   "cell_type": "code",
   "execution_count": 1,
   "metadata": {},
   "outputs": [],
   "source": [
    "import sqlite3\n",
    "import pandas as pd\n",
    "import json\n",
    "import os\n",
    "import matplotlib.pyplot as plt\n",
    "from IPython.display import Markdown, display\n",
    "import calendar\n",
    "\n",
    "\n",
    "# Allow Markdown characters in the print statement\n",
    "# this can make the output more print ready\n",
    "def printmd(string):\n",
    "    display(Markdown(string))"
   ]
  },
  {
   "cell_type": "code",
   "execution_count": 2,
   "metadata": {},
   "outputs": [],
   "source": [
    "conn = sqlite3.connect(\"twitterTesla.db\")\n",
    "c = conn.cursor()\n",
    "\n",
    "# Create tesla table to hold Elon Musk's tweets\n",
    "\n",
    "sql_create = \"\"\"\n",
    "CREATE TABLE IF NOT EXISTS tweets (\n",
    "    id_str TEXT PRIMARY KEY,\n",
    "    created_at INTEGER,\n",
    "    full_text TEXT\n",
    ");\n",
    "\"\"\"\n",
    "\n",
    "# remove any data from a previous run\n",
    "sql_delete = \"DELETE FROM tweets\"\n",
    "\n",
    "try:\n",
    "    c.execute(sql_create)\n",
    "    c.execute(sql_delete)\n",
    "    conn.commit()\n",
    "finally:\n",
    "    conn.rollback()\n",
    "    c.close()\n",
    "    conn.close()"
   ]
  },
  {
   "cell_type": "code",
   "execution_count": 3,
   "metadata": {},
   "outputs": [],
   "source": [
    "conn = sqlite3.connect(\"twitterTesla.db\")\n",
    "c = conn.cursor()\n",
    "\n",
    "# Create tesla table to hold stock prices\n",
    "\n",
    "sql_create = \"\"\"\n",
    "CREATE TABLE IF NOT EXISTS tesla (\n",
    "    id INTEGER PRIMARY KEY,\n",
    "    date TEXT,\n",
    "    open DECIMAL(6,2),\n",
    "    close DECIMAL(6,2),\n",
    "    high DECIMAL(6,2),\n",
    "    low DECIMAL(6,2)\n",
    ");\n",
    "\"\"\"\n",
    "\n",
    "# remove any data from a previous run\n",
    "sql_delete = \"DELETE FROM tesla\"\n",
    "\n",
    "try:\n",
    "    c.execute(sql_create)\n",
    "    c.execute(sql_delete)\n",
    "    conn.commit()\n",
    "finally:\n",
    "    conn.rollback()\n",
    "    c.close()\n",
    "    conn.close()"
   ]
  },
  {
   "cell_type": "code",
   "execution_count": 4,
   "metadata": {},
   "outputs": [
    {
     "data": {
      "text/plain": [
       "<sqlite3.Cursor at 0x118d11f10>"
      ]
     },
     "execution_count": 4,
     "metadata": {},
     "output_type": "execute_result"
    }
   ],
   "source": [
    "# Sqlite db file will continute to grow in size after any deletes or drops\n",
    "# This will optimize the database file and reduce its size\n",
    "# You can also just remove the db file and recreate.\n",
    "# http://www.sqlitetutorial.net/sqlite-vacuum/\n",
    "conn = sqlite3.connect(\"twitterTesla.db\")\n",
    "conn.execute(\"VACUUM\")"
   ]
  },
  {
   "cell_type": "code",
   "execution_count": 5,
   "metadata": {},
   "outputs": [],
   "source": [
    "conn = sqlite3.connect(\"teslaTwitter.db\")\n",
    "c = conn.cursor()\n",
    "\n",
    "# load stock into sqlite table\n",
    "filepath = 'csv/tslaquotes.csv'\n",
    "\n",
    "# read csv file\n",
    "stock_df = pd.read_csv(filepath, parse_dates=['date'], usecols=['date', 'close', 'open', 'high', 'low'])\n",
    "\n",
    "# append the data to the 'tesla' table in the 'teslaTwitter.db'\n",
    "stock_df.to_sql(\"tesla\", conn, if_exists = \"append\", index=False)"
   ]
  },
  {
   "cell_type": "code",
   "execution_count": 6,
   "metadata": {},
   "outputs": [],
   "source": [
    "conn = sqlite3.connect(\"teslaTwitter.db\")\n",
    "c = conn.cursor()\n",
    "\n",
    "# Pull out all of the json and put it into a tweets array to iterate through and create the data frame with\n",
    "with open(os.path.join('json/', 'musktweets.json')) as json_file:\n",
    "    tweets = []\n",
    "    for line in json_file:\n",
    "        tweets.append(json.loads(line))\n",
    "\n",
    "# Examples of how to access JSON attributes of my tweets\n",
    "# print(tweets[0]['created_at'])\n",
    "# print(tweets[0]['full_text'])\n",
    "# print(tweets[0]['id_str'])\n",
    "\n",
    "tweet_df = pd.DataFrame(tweets, columns=['id_str','created_at','full_text'])\n",
    "\n",
    "tweet_df.to_sql(\"tweets\", conn, if_exists=\"append\", index=False)"
   ]
  },
  {
   "cell_type": "code",
   "execution_count": 7,
   "metadata": {},
   "outputs": [
    {
     "name": "stdout",
     "output_type": "stream",
     "text": [
      "                id_str                      created_at  \\\n",
      "0  1039588735157850113  Tue Sep 11 18:57:23 +0000 2018   \n",
      "\n",
      "                                           full_text  \n",
      "0  RT @NASAJPL: #NeverForget\\nThere is a 9/11 tri...  \n",
      "---------------\n",
      "                 date   close    open    high    low\n",
      "0 2018-11-06 16:00:00  294.31  263.87  297.93  262.1\n"
     ]
    }
   ],
   "source": [
    "print(tweet_df[:1])\n",
    "print(\"---------------\")\n",
    "print(stock_df[:1])\n",
    "\n",
    "# TO DO: CONVERT DATE TIME FORMAT OF STOCK PRICES TO MATCH EACH OTHER\n",
    "# WRITE THE SQL COMMAND TO THEN PULL TWEETS AND PRICES OF THE SAME DATE\n",
    "# GRAPH THIS SQL TABLE"
   ]
  }
 ],
 "metadata": {
  "kernelspec": {
   "display_name": "Python 3",
   "language": "python",
   "name": "python3"
  },
  "language_info": {
   "codemirror_mode": {
    "name": "ipython",
    "version": 3
   },
   "file_extension": ".py",
   "mimetype": "text/x-python",
   "name": "python",
   "nbconvert_exporter": "python",
   "pygments_lexer": "ipython3",
   "version": "3.6.5"
  }
 },
 "nbformat": 4,
 "nbformat_minor": 2
}
